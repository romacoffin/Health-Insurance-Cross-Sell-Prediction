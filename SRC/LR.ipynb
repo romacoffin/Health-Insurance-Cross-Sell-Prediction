{
 "cells": [
  {
   "cell_type": "markdown",
   "metadata": {},
   "source": [
    "## 1. Package Installation"
   ]
  },
  {
   "cell_type": "code",
   "execution_count": 3,
   "metadata": {},
   "outputs": [],
   "source": [
    "import numpy as np \n",
    "import pandas as pd \n",
    "import shap\n",
    "import matplotlib.pyplot as plt\n",
    "import pylab as plt\n",
    "import matplotlib\n",
    "from matplotlib import pylab as plt\n",
    "\n",
    "from sklearn.compose import ColumnTransformer\n",
    "from sklearn.datasets import make_regression\n",
    "from sklearn.ensemble import RandomForestClassifier\n",
    "from sklearn.linear_model import LogisticRegression\n",
    "from sklearn.metrics import make_scorer, f1_score, precision_score, recall_score, accuracy_score, fbeta_score\n",
    "from sklearn.metrics import confusion_matrix\n",
    "from sklearn.model_selection import ParameterGrid, KFold, StratifiedKFold, train_test_split, GridSearchCV\n",
    "from sklearn.pipeline import Pipeline, make_pipeline\n",
    "from sklearn.preprocessing import StandardScaler, OneHotEncoder, OrdinalEncoder, MinMaxScaler, LabelEncoder\n",
    "from sklearn.svm import SVC\n",
    "from sklearn import datasets\n",
    "import warnings\n",
    "warnings.filterwarnings(\"ignore\")"
   ]
  },
  {
   "cell_type": "markdown",
   "metadata": {},
   "source": [
    "## 2. Load Data"
   ]
  },
  {
   "cell_type": "code",
   "execution_count": 4,
   "metadata": {
    "scrolled": true
   },
   "outputs": [
    {
     "name": "stdout",
     "output_type": "stream",
     "text": [
      "(381109, 10)\n"
     ]
    },
    {
     "data": {
      "text/html": [
       "<div>\n",
       "<style scoped>\n",
       "    .dataframe tbody tr th:only-of-type {\n",
       "        vertical-align: middle;\n",
       "    }\n",
       "\n",
       "    .dataframe tbody tr th {\n",
       "        vertical-align: top;\n",
       "    }\n",
       "\n",
       "    .dataframe thead th {\n",
       "        text-align: right;\n",
       "    }\n",
       "</style>\n",
       "<table border=\"1\" class=\"dataframe\">\n",
       "  <thead>\n",
       "    <tr style=\"text-align: right;\">\n",
       "      <th></th>\n",
       "      <th>Gender</th>\n",
       "      <th>Age</th>\n",
       "      <th>Driving_License</th>\n",
       "      <th>Region_Code</th>\n",
       "      <th>Previously_Insured</th>\n",
       "      <th>Vehicle_Age</th>\n",
       "      <th>Vehicle_Damage</th>\n",
       "      <th>Annual_Premium</th>\n",
       "      <th>Policy_Sales_Channel</th>\n",
       "      <th>Response</th>\n",
       "    </tr>\n",
       "  </thead>\n",
       "  <tbody>\n",
       "    <tr>\n",
       "      <th>0</th>\n",
       "      <td>Male</td>\n",
       "      <td>44</td>\n",
       "      <td>1</td>\n",
       "      <td>28.0</td>\n",
       "      <td>0</td>\n",
       "      <td>&gt; 2 Years</td>\n",
       "      <td>Yes</td>\n",
       "      <td>40454.0</td>\n",
       "      <td>26.0</td>\n",
       "      <td>1</td>\n",
       "    </tr>\n",
       "    <tr>\n",
       "      <th>1</th>\n",
       "      <td>Male</td>\n",
       "      <td>76</td>\n",
       "      <td>1</td>\n",
       "      <td>3.0</td>\n",
       "      <td>0</td>\n",
       "      <td>1-2 Year</td>\n",
       "      <td>No</td>\n",
       "      <td>33536.0</td>\n",
       "      <td>26.0</td>\n",
       "      <td>0</td>\n",
       "    </tr>\n",
       "    <tr>\n",
       "      <th>2</th>\n",
       "      <td>Male</td>\n",
       "      <td>47</td>\n",
       "      <td>1</td>\n",
       "      <td>28.0</td>\n",
       "      <td>0</td>\n",
       "      <td>&gt; 2 Years</td>\n",
       "      <td>Yes</td>\n",
       "      <td>38294.0</td>\n",
       "      <td>26.0</td>\n",
       "      <td>1</td>\n",
       "    </tr>\n",
       "    <tr>\n",
       "      <th>3</th>\n",
       "      <td>Male</td>\n",
       "      <td>21</td>\n",
       "      <td>1</td>\n",
       "      <td>11.0</td>\n",
       "      <td>1</td>\n",
       "      <td>&lt; 1 Year</td>\n",
       "      <td>No</td>\n",
       "      <td>28619.0</td>\n",
       "      <td>152.0</td>\n",
       "      <td>0</td>\n",
       "    </tr>\n",
       "    <tr>\n",
       "      <th>4</th>\n",
       "      <td>Female</td>\n",
       "      <td>29</td>\n",
       "      <td>1</td>\n",
       "      <td>41.0</td>\n",
       "      <td>1</td>\n",
       "      <td>&lt; 1 Year</td>\n",
       "      <td>No</td>\n",
       "      <td>27496.0</td>\n",
       "      <td>152.0</td>\n",
       "      <td>0</td>\n",
       "    </tr>\n",
       "  </tbody>\n",
       "</table>\n",
       "</div>"
      ],
      "text/plain": [
       "   Gender  Age  Driving_License  Region_Code  Previously_Insured Vehicle_Age  \\\n",
       "0    Male   44                1         28.0                   0   > 2 Years   \n",
       "1    Male   76                1          3.0                   0    1-2 Year   \n",
       "2    Male   47                1         28.0                   0   > 2 Years   \n",
       "3    Male   21                1         11.0                   1    < 1 Year   \n",
       "4  Female   29                1         41.0                   1    < 1 Year   \n",
       "\n",
       "  Vehicle_Damage  Annual_Premium  Policy_Sales_Channel  Response  \n",
       "0            Yes         40454.0                  26.0         1  \n",
       "1             No         33536.0                  26.0         0  \n",
       "2            Yes         38294.0                  26.0         1  \n",
       "3             No         28619.0                 152.0         0  \n",
       "4             No         27496.0                 152.0         0  "
      ]
     },
     "execution_count": 4,
     "metadata": {},
     "output_type": "execute_result"
    }
   ],
   "source": [
    "#Everytime you run this you will have to restart the Kernal otherwise it will go back too far \n",
    "#cd ..\n",
    "df = pd.read_csv(\"Data/insurance.csv\")\n",
    "df.drop([\"id\",\"Vintage\"],axis = 1,inplace=True)\n",
    "print(df.shape)\n",
    "df.head()"
   ]
  },
  {
   "cell_type": "code",
   "execution_count": 5,
   "metadata": {},
   "outputs": [
    {
     "name": "stdout",
     "output_type": "stream",
     "text": [
      "baseline: 0.877436638861848\n"
     ]
    }
   ],
   "source": [
    "# let's separate the feature matrix X, and target variable y\n",
    "y = df['Response'] # we want to predict target variable\n",
    "X = df.loc[:, df.columns != 'Response'] # all other columns are features\n",
    "ftr_names = X.columns\n",
    "#baseline view\n",
    "classes, counts = np.unique(y,return_counts=True)\n",
    "baseline = np.max(counts/len(y))\n",
    "print('baseline:',baseline )"
   ]
  },
  {
   "cell_type": "markdown",
   "metadata": {},
   "source": [
    "## 6 Data Preprocessing"
   ]
  },
  {
   "cell_type": "code",
   "execution_count": 10,
   "metadata": {},
   "outputs": [],
   "source": [
    "def ML_pipeline_kfold_GridSearchCV_LR(X,y,random_state,n_folds):\n",
    "    # create a test set\n",
    "    X_other, X_test, y_other, y_test = train_test_split(X, y, test_size=0.2, random_state = random_state)\n",
    "    \n",
    "    # KFold splitter for _other\n",
    "    kf = KFold(n_splits=n_folds,shuffle=True,random_state=random_state)\n",
    "    \n",
    "    # collect which encoder to use on each feature\n",
    "    # needs to be done manually\n",
    "    ordinal_ftrs = ['Vehicle_Age'] \n",
    "    ordinal_cats = [['< 1 Year','1-2 Year','> 2 Years']]\n",
    "    onehot_ftrs = ['Gender','Driving_License','Vehicle_Damage','Previously_Insured']\n",
    "    num_ftrs = ['Age', 'Region_Code','Annual_Premium', 'Policy_Sales_Channel']\n",
    "    \n",
    "    ordinal_transformer = Pipeline(steps=[('ordinal', OrdinalEncoder(categories = ordinal_cats))])\n",
    "    onehot_transformer = Pipeline(steps=[('onehot', OneHotEncoder(sparse=False))])\n",
    "    num_transformer = Pipeline(steps=[('scaler', StandardScaler())])\n",
    "\n",
    "    # collect all the encoders\n",
    "    preprocessor = ColumnTransformer(\n",
    "        transformers=[\n",
    "            ('ord', ordinal_transformer, ordinal_ftrs),\n",
    "            ('onehot', onehot_transformer, onehot_ftrs),\n",
    "            ('num', num_transformer, num_ftrs)])\n",
    "   # make ML pipeline\n",
    "    pipe = make_pipeline(preprocessor, LogisticRegression(penalty='l1', solver='saga', max_iter=10000, random_state = 42))\n",
    "\n",
    "    # the parameter(s) we want to tune\n",
    "    param_grid = {'logisticregression__C': np.logspace(-2,2, num=8)} \n",
    "    \n",
    "    # prepare gridsearch\n",
    "    grid = GridSearchCV(pipe, param_grid=param_grid,scoring = make_scorer(accuracy_score),\n",
    "                        cv=kf, return_train_score = True,n_jobs=-1)\n",
    "    \n",
    "    # do kfold CV on _other\n",
    "    grid.fit(X_other, y_other)\n",
    "    y_pred = grid.predict(X_test)\n",
    "    preprocessor.fit(X_other)\n",
    "    return grid, grid.score(X_test, y_test), X_test, y_test"
   ]
  },
  {
   "cell_type": "code",
   "execution_count": 14,
   "metadata": {},
   "outputs": [
    {
     "name": "stdout",
     "output_type": "stream",
     "text": [
      "random state 1\n",
      "{'logisticregression__C': 0.01}\n",
      "0\n",
      "best CV score: 0.8763421342134213\n",
      "random state 2\n",
      "{'logisticregression__C': 0.01}\n",
      "1\n",
      "best CV score: 0.8739588244538741\n",
      "random state 3\n",
      "{'logisticregression__C': 0.01}\n",
      "2\n",
      "best CV score: 0.8759429514380009\n",
      "random state 4\n",
      "{'logisticregression__C': 26.826957952797247}\n",
      "3\n",
      "best CV score: 0.8735635706427786\n",
      "random state 5\n",
      "{'logisticregression__C': 0.01}\n",
      "4\n",
      "best CV score: 0.8687945937450887\n",
      "random state 6\n",
      "{'logisticregression__C': 0.01}\n",
      "5\n",
      "best CV score: 0.8755382681125257\n",
      "random state 7\n",
      "{'logisticregression__C': 0.01}\n",
      "6\n",
      "best CV score: 0.8822780135156373\n",
      "random state 8\n",
      "{'logisticregression__C': 0.01}\n",
      "7\n",
      "best CV score: 0.8727722772277229\n",
      "random state 9\n",
      "{'logisticregression__C': 0.01}\n",
      "8\n",
      "best CV score: 0.8735706427785637\n",
      "random state 10\n",
      "{'logisticregression__C': 0.01}\n",
      "9\n",
      "best CV score: 0.8751524438158101\n",
      "test accuracy: 0.868 +/- 0.013\n"
     ]
    }
   ],
   "source": [
    "test_scores = []\n",
    "\n",
    "for i in range(10):\n",
    "    print('random state '+str(i+1)) \n",
    "    grid, test_score, X_test, y_test = ML_pipeline_kfold_GridSearchCV_LR(X,y,i*42, 5)\n",
    "    print(grid.best_params_)\n",
    "    print(i)\n",
    "    print('best CV score:',grid.best_score_)\n",
    "    #print('test score:',test_score)\n",
    "\n",
    "    test_scores.append(test_score)\n",
    "    \n",
    "mean_test_scores = np.around(np.mean(test_scores),3)\n",
    "std_test_scores = np.around(np.std(test_scores),3)\n",
    "print('test accuracy:',mean_test_scores ,'+/-',std_test_scores)\n",
    "\n",
    "# store mean and std of model's accuracy test score\n",
    "model_mean = []\n",
    "model_std = []\n",
    "model_mean.append(mean_test_scores)\n",
    "model_std.append(std_test_scores)\n"
   ]
  },
  {
   "cell_type": "markdown",
   "metadata": {},
   "source": [
    "### Perturbation"
   ]
  },
  {
   "cell_type": "code",
   "execution_count": 15,
   "metadata": {},
   "outputs": [
    {
     "name": "stdout",
     "output_type": "stream",
     "text": [
      "unshuffled best score 0.866877971473851\n",
      "best parm {'logisticregression__C': 0.01}\n",
      "test baseline =  0.8734939759036144\n",
      "shuffling Gender\n",
      "   shuffled test score: 0.867 +/- 0.0\n",
      "shuffling Age\n",
      "   shuffled test score: 0.867 +/- 0.0\n",
      "shuffling Driving_License\n",
      "   shuffled test score: 0.867 +/- 0.0\n",
      "shuffling Region_Code\n",
      "   shuffled test score: 0.867 +/- 0.0\n",
      "shuffling Previously_Insured\n",
      "   shuffled test score: 0.867 +/- 0.0\n",
      "shuffling Vehicle_Age\n",
      "   shuffled test score: 0.867 +/- 0.0\n",
      "shuffling Vehicle_Damage\n",
      "   shuffled test score: 0.867 +/- 0.0\n",
      "shuffling Annual_Premium\n",
      "   shuffled test score: 0.867 +/- 0.0\n",
      "shuffling Policy_Sales_Channel\n",
      "   shuffled test score: 0.867 +/- 0.0\n"
     ]
    }
   ],
   "source": [
    "np.random.seed(42) #fixed random state in numpy\n",
    "nr_runs = 5\n",
    "scores = np.zeros([len(ftr_names),nr_runs])\n",
    "\n",
    "print(\"unshuffled best score\", grid.score(X_test,y_test))\n",
    "print(\"best parm\", grid.best_params_)\n",
    "print('test baseline = ', baseline)\n",
    "# loop through the features\n",
    "for i in range(len(ftr_names)):\n",
    "    print('shuffling '+str(ftr_names[i]))\n",
    "    acc_scores = []\n",
    "    for j in range(nr_runs):\n",
    "        X_test_shuffled = X_test.copy()\n",
    "        X_test_shuffled[ftr_names[i]] = np.random.permutation(X_test[ftr_names[i]].values)\n",
    "        acc_scores.append(grid.score(X_test_shuffled,y_test))\n",
    "    print('   shuffled test score:',np.around(np.mean(acc_scores),3),'+/-',np.around(np.std(acc_scores),3))\n",
    "    scores[i] = acc_scores"
   ]
  },
  {
   "cell_type": "code",
   "execution_count": 16,
   "metadata": {},
   "outputs": [
    {
     "data": {
      "image/png": "[encoded data removed]",
      "text/plain": [
       "<Figure size 576x432 with 1 Axes>"
      ]
     },
     "metadata": {
      "needs_background": "light"
     },
     "output_type": "display_data"
    }
   ],
   "source": [
    "sorted_indcs = np.argsort(np.mean(scores,axis=1))[:10][::-1] #order features by how important they are - by how much accuracy score has reduced \n",
    "plt.rcParams.update({'font.size': 14})\n",
    "plt.figure(figsize=(8,6))\n",
    "plt.boxplot(scores[sorted_indcs].T,labels=ftr_names[sorted_indcs],vert=False)\n",
    "plt.axvline(mean_test_scores,label='test score') #original test score\n",
    "plt.title(\"Permutation Importances\")\n",
    "plt.xlabel(\"Score with perturbed feature\")\n",
    "plt.legend()\n",
    "plt.tight_layout()\n",
    "plt.show()\n",
    "plt.savefig('Figures/LR_PermutationScores.png', dpi=300, format='png')"
   ]
  },
  {
   "cell_type": "markdown",
   "metadata": {},
   "source": [
    "### Confusion Matrix"
   ]
  },
  {
   "cell_type": "code",
   "execution_count": 18,
   "metadata": {},
   "outputs": [
    {
     "name": "stdout",
     "output_type": "stream",
     "text": [
      "[[66864     8]\n",
      " [ 9336    14]]\n"
     ]
    }
   ],
   "source": [
    "LogReg = LogisticRegression() # initialize a simple logistic regression model\n",
    "LogReg.fit(X_train_prep,y_train) \n",
    "y_true = (y_test)\n",
    "y_pred = LogReg.predict(X_test_prep)\n",
    "print(confusion_matrix(y_true,y_pred))"
   ]
  },
  {
   "cell_type": "code",
   "execution_count": 21,
   "metadata": {},
   "outputs": [
    {
     "data": {
      "image/png": "[encoded data removed]",
      "text/plain": [
       "<Figure size 432x288 with 2 Axes>"
      ]
     },
     "metadata": {
      "needs_background": "light"
     },
     "output_type": "display_data"
    }
   ],
   "source": [
    "# https://scikit-learn.org/stable/auto_examples/model_selection/plot_confusion_matrix.html\n",
    "import numpy as np\n",
    "import matplotlib.pyplot as plt\n",
    "from sklearn.utils.multiclass import unique_labels\n",
    "\n",
    "def plot_confusion_matrix(y_true, y_pred, classes,\n",
    "                          normalize=False,\n",
    "                          title=None,\n",
    "                          cmap=plt.cm.Blues):\n",
    "    \"\"\"\n",
    "    This function prints and plots the confusion matrix.\n",
    "    Normalization can be applied by setting `normalize=True`.\n",
    "    \"\"\"\n",
    "    if not title:\n",
    "        if normalize:\n",
    "            title = 'Normalized confusion matrix'\n",
    "        else:\n",
    "            title = 'Confusion matrix, without normalization'\n",
    "\n",
    "    # Compute confusion matrix\n",
    "    cm = confusion_matrix(y_true, y_pred)\n",
    "    # Only use the labels that appear in the data\n",
    "    classes = np.array(classes)\n",
    "    classes = classes[unique_labels(y_true, y_pred)]\n",
    "    if normalize:\n",
    "        cm = cm.astype('float') / cm.sum(axis=1)[:, np.newaxis]\n",
    "        \n",
    "    fig, ax = plt.subplots()\n",
    "    im = ax.imshow(cm, interpolation='nearest', cmap=cmap)\n",
    "    ax.figure.colorbar(im, ax=ax)\n",
    "    # We want to show all ticks...\n",
    "    ax.set(xticks=np.arange(cm.shape[1]),\n",
    "           yticks=np.arange(cm.shape[0]),\n",
    "           # ... and label them with the respective list entries\n",
    "           xticklabels=classes, yticklabels=classes,\n",
    "           title=title,\n",
    "           ylabel='True label',\n",
    "           xlabel='Predicted label')\n",
    "\n",
    "    # Rotate the tick labels and set their alignment.\n",
    "    plt.setp(ax.get_xticklabels(), rotation=45, ha=\"right\",\n",
    "             rotation_mode=\"anchor\")\n",
    "\n",
    "    # Loop over data dimensions and create text annotations.\n",
    "    fmt = '.2f' if normalize else 'd'\n",
    "    thresh = cm.max() / 2.\n",
    "    for i in range(cm.shape[0]):\n",
    "        for j in range(cm.shape[1]):\n",
    "            ax.text(j, i, format(cm[i, j], fmt),\n",
    "                    ha=\"center\", va=\"center\",\n",
    "                    color=\"white\" if cm[i, j] > thresh else \"black\")\n",
    "    fig.tight_layout()\n",
    "    return ax\n",
    "plot_confusion_matrix(y_true,y_pred,classes=['class 0','class 1'])\n",
    "plt.show()\n",
    "plt.savefig('Figures/LR_ConfusionMatrix.png', dpi=300, format='png')"
   ]
  },
  {
   "cell_type": "code",
   "execution_count": null,
   "metadata": {},
   "outputs": [],
   "source": []
  }
 ],
 "metadata": {
  "@webio": {
   "lastCommId": null,
   "lastKernelId": null
  },
  "kernelspec": {
   "display_name": "Python 3",
   "language": "python",
   "name": "python3"
  },
  "language_info": {
   "codemirror_mode": {
    "name": "ipython",
    "version": 3
   },
   "file_extension": ".py",
   "mimetype": "text/x-python",
   "name": "python",
   "nbconvert_exporter": "python",
   "pygments_lexer": "ipython3",
   "version": "3.7.8"
  }
 },
 "nbformat": 4,
 "nbformat_minor": 4
}
